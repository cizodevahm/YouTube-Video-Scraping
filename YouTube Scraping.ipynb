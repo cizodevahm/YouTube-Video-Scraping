{
 "cells": [
  {
   "cell_type": "code",
   "execution_count": null,
   "id": "110c10b0",
   "metadata": {},
   "outputs": [],
   "source": [
    "#For the task of scraping youtube with python\n",
    "!pip install pytube3"
   ]
  },
  {
   "cell_type": "code",
   "execution_count": null,
   "id": "5cc43fd3",
   "metadata": {},
   "outputs": [],
   "source": [
    "# Import YouTube\n",
    "from pytube import YouTube"
   ]
  },
  {
   "cell_type": "code",
   "execution_count": null,
   "id": "8126a2cb",
   "metadata": {},
   "outputs": [],
   "source": [
    "# Take YT video link\n",
    "link = input(\"Enter Link of Youtube Video: \")\n",
    "yt = YouTube(link)"
   ]
  },
  {
   "cell_type": "code",
   "execution_count": null,
   "id": "4bc1524c",
   "metadata": {},
   "outputs": [],
   "source": [
    "# To print title\n",
    "print(\"Title :\", yt.title)\n",
    "# To get number of views\n",
    "print(\"Views :\", yt.views)\n",
    "# To get the length of video\n",
    "print(\"Duration :\", yt.length)\n",
    "# To get description\n",
    "print(\"Description :\", yt.description)\n",
    "# To get ratings\n",
    "print(\"Ratings :\", yt.rating)"
   ]
  },
  {
   "cell_type": "code",
   "execution_count": null,
   "id": "49ba7c17",
   "metadata": {},
   "outputs": [],
   "source": [
    "# Download YT video\n",
    "stream = yt.streams.get_highest_resolution()\n",
    "stream.download()\n",
    "print(\"Download completed!!\")"
   ]
  }
 ],
 "metadata": {
  "kernelspec": {
   "display_name": "Python 3 (ipykernel)",
   "language": "python",
   "name": "python3"
  },
  "language_info": {
   "codemirror_mode": {
    "name": "ipython",
    "version": 3
   },
   "file_extension": ".py",
   "mimetype": "text/x-python",
   "name": "python",
   "nbconvert_exporter": "python",
   "pygments_lexer": "ipython3",
   "version": "3.10.9"
  }
 },
 "nbformat": 4,
 "nbformat_minor": 5
}
